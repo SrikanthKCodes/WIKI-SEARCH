{
 "cells": [
  {
   "cell_type": "code",
   "execution_count": 1,
   "id": "81cd285d",
   "metadata": {},
   "outputs": [
    {
     "name": "stdout",
     "output_type": "stream",
     "text": [
      "Requirement already satisfied: wikipedia in c:\\users\\srikanth\\anaconda3\\lib\\site-packages (1.4.0)\n",
      "Requirement already satisfied: requests<3.0.0,>=2.0.0 in c:\\users\\srikanth\\anaconda3\\lib\\site-packages (from wikipedia) (2.25.1)\n",
      "Requirement already satisfied: beautifulsoup4 in c:\\users\\srikanth\\anaconda3\\lib\\site-packages (from wikipedia) (4.9.3)\n",
      "Requirement already satisfied: idna<3,>=2.5 in c:\\users\\srikanth\\anaconda3\\lib\\site-packages (from requests<3.0.0,>=2.0.0->wikipedia) (2.10)\n",
      "Requirement already satisfied: certifi>=2017.4.17 in c:\\users\\srikanth\\anaconda3\\lib\\site-packages (from requests<3.0.0,>=2.0.0->wikipedia) (2020.12.5)\n",
      "Requirement already satisfied: chardet<5,>=3.0.2 in c:\\users\\srikanth\\anaconda3\\lib\\site-packages (from requests<3.0.0,>=2.0.0->wikipedia) (4.0.0)\n",
      "Requirement already satisfied: urllib3<1.27,>=1.21.1 in c:\\users\\srikanth\\anaconda3\\lib\\site-packages (from requests<3.0.0,>=2.0.0->wikipedia) (1.26.4)\n",
      "Requirement already satisfied: soupsieve>1.2 in c:\\users\\srikanth\\anaconda3\\lib\\site-packages (from beautifulsoup4->wikipedia) (2.2.1)\n"
     ]
    }
   ],
   "source": [
    "!pip install wikipedia"
   ]
  },
  {
   "cell_type": "code",
   "execution_count": 23,
   "id": "a21603a0",
   "metadata": {},
   "outputs": [
    {
     "name": "stdout",
     "output_type": "stream",
     "text": [
      "Collecting python-docx\n",
      "  Downloading python-docx-0.8.11.tar.gz (5.6 MB)\n",
      "Requirement already satisfied: lxml>=2.3.2 in c:\\users\\srikanth\\anaconda3\\lib\\site-packages (from python-docx) (4.6.3)\n",
      "Building wheels for collected packages: python-docx\n",
      "  Building wheel for python-docx (setup.py): started\n",
      "  Building wheel for python-docx (setup.py): finished with status 'done'\n",
      "  Created wheel for python-docx: filename=python_docx-0.8.11-py3-none-any.whl size=184600 sha256=1940322088df6e0183292b889be33c86c3a13f30a5dc3cac0def56744afc9b59\n",
      "  Stored in directory: c:\\users\\srikanth\\appdata\\local\\pip\\cache\\wheels\\32\\b8\\b2\\c4c2b95765e615fe139b0b17b5ea7c0e1b6519b0a9ec8fb34d\n",
      "Successfully built python-docx\n",
      "Installing collected packages: python-docx\n",
      "Successfully installed python-docx-0.8.11\n"
     ]
    }
   ],
   "source": [
    "!pip install python-docx"
   ]
  },
  {
   "cell_type": "code",
   "execution_count": null,
   "id": "14c30935",
   "metadata": {},
   "outputs": [],
   "source": [
    "from tkinter import*\n",
    "from tkinter import messagebox\n",
    "import wikipedia as wik\n",
    "import os\n",
    "master=Tk()\n",
    "master.title(\"Wikipedia\")\n",
    "master.geometry(\"1000x1000\")\n",
    "font_format=(\"Arial\",25,\"bold\")\n",
    "font_format2=(\"Arial\",15,\"italic\")\n",
    "\n",
    "def search():\n",
    "    a=wik.summary(entry.get())\n",
    "    with open(\"testfile.txt\",\"w\") as file:\n",
    "        file.write(a)       \n",
    "    \n",
    "def op():\n",
    "    os.system(\"testfile.txt\")  \n",
    "\n",
    "\n",
    "label1=Label(master, text=\"WIKI SEARCH\", padx=20, pady=20, font=font_format, bg=\"yellow\", fg=\"green\")\n",
    "label1.grid(row=0, column=0)\n",
    "\n",
    "label2=Label(master, text=\"Enter the Keyword\", padx=20, pady=20, font=font_format2, bg=\"green\", fg=\"yellow\")\n",
    "label2.grid(row=1, column=0)\n",
    "\n",
    "entry=Entry(master, font=font_format2, bg=\"blue\", fg=\"white\")\n",
    "entry.grid(row=1, column=1)\n",
    "\n",
    "text=Text(master)\n",
    "text.grid(row=3, column=0)\n",
    "\n",
    "button1=Button(master, text=\"Search and Save\", command=search, font=font_format2, bg=\"blue\", fg=\"yellow\")\n",
    "button1.grid(row=2, column=1)\n",
    "\n",
    "button2=Button(master, text=\"Open\", command=op, font=font_format2, bg=\"red\", fg=\"black\" )\n",
    "button2.grid(row=2, column=2)\n",
    "\n",
    "\n",
    "\n",
    "master.mainloop()"
   ]
  },
  {
   "cell_type": "code",
   "execution_count": null,
   "id": "469d20d9",
   "metadata": {},
   "outputs": [],
   "source": []
  }
 ],
 "metadata": {
  "kernelspec": {
   "display_name": "Python 3",
   "language": "python",
   "name": "python3"
  },
  "language_info": {
   "codemirror_mode": {
    "name": "ipython",
    "version": 3
   },
   "file_extension": ".py",
   "mimetype": "text/x-python",
   "name": "python",
   "nbconvert_exporter": "python",
   "pygments_lexer": "ipython3",
   "version": "3.8.8"
  }
 },
 "nbformat": 4,
 "nbformat_minor": 5
}
